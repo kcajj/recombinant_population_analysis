{
 "cells": [
  {
   "cell_type": "code",
   "execution_count": 3,
   "metadata": {},
   "outputs": [
    {
     "name": "stdout",
     "output_type": "stream",
     "text": [
      "AAAAAAAAAAAAAAAAAAAAAAAAAAAAAAAAAAAAAAAAAAAAAAAAAAAAAAAAAAAAAAAAAAAAAAAAAAAAAAAAAAAAAAAAAAAAAAAAAAAAAAAAAAAAAAAAAAAAAAAAAAAAAAAAAAAAAAAAAAAAAAAAAAAAAAAAAAAAAAAAAAAAAAAAAAAAAAAAAAAAAAAAAAAAAAAAAAAAAAAAAAAAAAAAAAAAAAAAAABBBBBBBBBBBBBBBBBBBBBBBBBBBBBBBBBBBBBBBBBBBBBBBBBBBBBBBBBBBBBBBBBBBBBBBBBBBBBBBBBAAAAAAAAAAAAAAAAAAAAAAAAAAAAAAAAAAAAAAAAAAAAAAAAAAAAAAAAAAAAAAAAAAAAAAAAAAAAAAAAAAAAAAAAAAAAAAAAAAAAAAAAAAAAABBBBBBBBBBBBBBBBBBBBBBBBBBBBBBBBBBBBBBBBBBBBBBBBBBBBBBBBBBBBBBBBBBBBBBBBBAAAAAAAAAAAAAAAAAAAAAAAAAAAAAAAAAAAAAAAAAAAAAAAAAAAAAAAAAAAAAAAAAAAAAAAAAAAAAAAAAAAAAAAAAAAAAAAAAAAAAAAAAAAAAAAAAAAAAAAAAAAAAAAAAAAAABBBBBBBBBBBBBBBBBBBBBBBAAAAAAAAAAAAAAAAAAAAAAAAAAAAAAAAAAAAAAAAAAAAAAAAAAAAAAAAAAAAAAAAAAAAAAAAAAAAAAAAAAAAAAAAAAAAAAAAAAAAAAAAAAAAAAAAAAAAAAAAAAAAAAAAAAAAAAAAAAAAAAAAAAAAAAAAAAAAAAAAAAAAAAAAAAAAAAAAAAAAAAAAAAAAAAAAAAAAAAAAAAAAAAAAAAAAAAAAAAAAAAAAAAAAAAAAAAAAAAAAAAAAAAAAAAAAAAAAAAAAAAAAAAAAAAAAAAAAAAAAAAAAAAAAAAAAAAAAAAAAABBBBBBBBBBBBBBBBBBBBBBBBBBBBBBBBBBBBBBBBBBBBBBBBBBBBBBBBBBBBBBB\n"
     ]
    }
   ],
   "source": [
    "import numpy as np\n",
    "\n",
    "'''\n",
    "generate sequences on the basis of given probabilties\n",
    "'''\n",
    "\n",
    "n=1000\n",
    "\n",
    "initial_p={\"A\":0.5,\"B\":0.5}\n",
    "\n",
    "transition_p_froma={\"A\":0.99,\"B\":0.01}\n",
    "transition_p_fromb={\"A\":0.01,\"B\":0.99}\n",
    "\n",
    "emission_p_froma={\".\":0.899,\"a\":0.10,\"b\":0.001}\n",
    "emission_p_fromb={\".\":0.899,\"a\":0.001,\"b\":0.10}\n",
    "\n",
    "hid_seq=np.random.choice(list(initial_p.keys()), p=list(initial_p.values()))\n",
    "\n",
    "for i in range(n):\n",
    "    if hid_seq[-1]==\"A\":\n",
    "        step=np.random.choice(list(transition_p_froma.keys()), p=list(transition_p_froma.values()))\n",
    "        hid_seq+=step\n",
    "    else:\n",
    "        step=np.random.choice(list(transition_p_fromb.keys()), p=list(transition_p_fromb.values()))\n",
    "        hid_seq+=step\n",
    "\n",
    "print(hid_seq)\n",
    "\n",
    "#hid_seq=\"BBBBBBBBBBBBBBBBBBBBBBBBBBBBBBBBBBBAAAAAAAAAAAAAAAAAAAAAAAAAAAAAAAAAAAAAAAAAAAAAAAAAAAAAAAAAAAAAAAAAA\"\n",
    "\n"
   ]
  },
  {
   "cell_type": "code",
   "execution_count": 4,
   "metadata": {},
   "outputs": [
    {
     "name": "stdout",
     "output_type": "stream",
     "text": [
      "a...................a...a....a....a.................a....a....a.a.......a................a..............a....a..a.a..a.a.......................a.......aa.........a..a.a............a..................a.....a..........a...b..b.......b..........b...b.............b......b.....b...a.b.b......ab..b........a......b.....a................a.................................a.........................a.....a.......aa.b...b....b.............b........................................b.............aa...............................a..b.............a..a..................................a.......a.....aaa.a...a............a................bb.bb..............a...........a...aa.......aa...................a.a....a......aa....aaa..............a.....aa....a..a........aa.......................a......a...............aa...............a...............a......................aaa....a.........a............aa....a............................a.a..a...a.....................b..............................b....b.....b......\n"
     ]
    }
   ],
   "source": [
    "emission_seq=\"\"\n",
    "\n",
    "for hidden_state in hid_seq:\n",
    "    if hidden_state==\"A\":\n",
    "        emission=np.random.choice(list(emission_p_froma.keys()), p=list(emission_p_froma.values()))\n",
    "        emission_seq+=emission\n",
    "    else:\n",
    "        emission=np.random.choice(list(emission_p_fromb.keys()), p=list(emission_p_fromb.values()))\n",
    "        emission_seq+=emission\n",
    "\n",
    "print(emission_seq)\n",
    "#emission_seq=\"bb...b......bb.b.b.b...bb.bb....b.baa...a.a..aaabaaaa.aaa....aa.aa....a.aa..a......a.a.aaa.........aa\"\n",
    "\n"
   ]
  },
  {
   "cell_type": "code",
   "execution_count": 3,
   "metadata": {},
   "outputs": [],
   "source": [
    "'''\n",
    "test viterbi algorithm\n",
    "'''\n",
    "\n",
    "def viterbi(y, A, B, pi):\n",
    "    \"\"\"\n",
    "        viterbi algorithm\n",
    "        :param y: observation sequence\n",
    "        :param A: the transition matrix\n",
    "        :param B: the emission matrix\n",
    "        :param pi: the initial probability distribution\n",
    "    \"\"\"\n",
    "    N = B.shape[0]\n",
    "    x_seq = np.zeros([N, 0])\n",
    "    V = B[:, y[0]] * pi\n",
    "\n",
    "    # forward to compute the optimal value function V\n",
    "    for y_ in y[1:]:\n",
    "        _V = np.tile(B[:, y_], reps=[N, 1]).T * A.T * np.tile(V, reps=[N, 1])\n",
    "        x_ind = np.argmax(_V, axis=1)\n",
    "        x_seq = np.hstack([x_seq, np.c_[x_ind]])\n",
    "        V = _V[np.arange(N), x_ind]\n",
    "    x_T = np.argmax(V)\n",
    "\n",
    "    # backward to fetch optimal sequence\n",
    "    x_seq_opt, i = np.zeros(x_seq.shape[1]+1), x_seq.shape[1]\n",
    "    prev_ind = x_T\n",
    "    while i >= 0:\n",
    "        x_seq_opt[i] = prev_ind\n",
    "        i -= 1\n",
    "        prev_ind = x_seq[int(prev_ind), i]\n",
    "    return x_seq_opt\n",
    "\n"
   ]
  },
  {
   "cell_type": "code",
   "execution_count": 4,
   "metadata": {},
   "outputs": [],
   "source": [
    "hidden_index=[]\n",
    "for h in hid_seq:\n",
    "    if h==\"A\":\n",
    "        hidden_index.append(0)\n",
    "    else:\n",
    "        hidden_index.append(1)\n",
    "emission_index=[]\n",
    "for e in emission_seq:\n",
    "    if e==\".\":\n",
    "        emission_index.append(0)\n",
    "    elif e==\"a\":\n",
    "        emission_index.append(1)\n",
    "    else:\n",
    "        emission_index.append(2)\n",
    "\n"
   ]
  },
  {
   "cell_type": "code",
   "execution_count": 5,
   "metadata": {},
   "outputs": [
    {
     "name": "stdout",
     "output_type": "stream",
     "text": [
      "[0, 0, 0, 2, 2, 0, 0, 2, 2, 0, 2, 0, 2, 0, 0, 0, 0, 2, 0, 0, 2, 1, 0, 2, 0, 0, 0, 2, 0, 0, 0, 0, 0, 0, 0, 0, 0, 2, 0, 0, 0, 2, 2, 0, 0, 2, 2, 2, 0, 0, 2, 0, 0, 0, 2, 2, 2, 0, 2, 0, 0, 0, 0, 0, 2, 0, 0, 0, 0, 0, 0, 2, 0, 0, 2, 0, 0, 0, 0, 2, 2, 0, 2, 0, 2, 0, 2, 0, 2, 1, 0, 0, 2, 2, 0, 2, 2, 0, 2, 0, 0]\n",
      "[1, 1, 1, 1, 1, 1, 1, 1, 1, 1, 1, 1, 1, 1, 1, 1, 1, 1, 1, 1, 1, 1, 1, 1, 1, 1, 1, 1, 1, 1, 1, 1, 1, 1, 1, 1, 1, 1, 1, 1, 1, 1, 1, 1, 1, 1, 1, 1, 1, 1, 1, 1, 1, 1, 1, 1, 1, 1, 1, 1, 1, 1, 1, 1, 1, 1, 1, 1, 1, 1, 1, 1, 1, 1, 1, 1, 1, 1, 1, 1, 1, 1, 1, 1, 1, 1, 1, 1, 1, 1, 1, 1, 1, 1, 1, 1, 1, 1, 1, 1, 1]\n",
      "[1, 1, 1, 1, 1, 1, 1, 1, 1, 1, 1, 1, 1, 1, 1, 1, 1, 1, 1, 1, 1, 1, 1, 1, 1, 1, 1, 1, 1, 1, 1, 1, 1, 1, 1, 1, 1, 1, 1, 1, 1, 1, 1, 1, 1, 1, 1, 1, 1, 1, 1, 1, 1, 1, 1, 1, 1, 1, 1, 1, 1, 1, 1, 1, 1, 1, 1, 1, 1, 1, 1, 1, 1, 1, 1, 1, 1, 1, 1, 1, 1, 1, 1, 1, 1, 1, 1, 1, 1, 1, 1, 1, 1, 1, 1, 1, 1, 1, 1, 1, 1]\n",
      "1.0\n"
     ]
    }
   ],
   "source": [
    "print(emission_index)\n",
    "\n",
    "ip_np=np.array(list(initial_p.values()))\n",
    "tp_np=np.array([list(transition_p_froma.values()),\n",
    "                list(transition_p_fromb.values())])\n",
    "ep_np=np.array([list(emission_p_froma.values()),\n",
    "                list(emission_p_fromb.values())])\n",
    "\n",
    "o=viterbi(emission_index, tp_np, ep_np, ip_np)\n",
    "\n",
    "predicted_hidden_index = o.tolist()\n",
    "predicted_hidden_index = [int(x) for x in predicted_hidden_index]\n",
    "\n",
    "print(hidden_index)\n",
    "print(predicted_hidden_index)\n",
    "\n",
    "accuracy = sum([1 for i in range(len(hidden_index)) if hidden_index[i] == predicted_hidden_index[i]]) / len(hidden_index)\n",
    "print(accuracy)"
   ]
  }
 ],
 "metadata": {
  "kernelspec": {
   "display_name": "scientific_python",
   "language": "python",
   "name": "python3"
  },
  "language_info": {
   "codemirror_mode": {
    "name": "ipython",
    "version": 3
   },
   "file_extension": ".py",
   "mimetype": "text/x-python",
   "name": "python",
   "nbconvert_exporter": "python",
   "pygments_lexer": "ipython3",
   "version": "3.10.12"
  }
 },
 "nbformat": 4,
 "nbformat_minor": 2
}
